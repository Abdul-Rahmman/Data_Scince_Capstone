{
 "cells": [
  {
   "cell_type": "markdown",
   "id": "7e192ced-0b41-45c3-9e98-75210cd19069",
   "metadata": {
    "tags": []
   },
   "source": [
    "# <strong>Data Scince Capstone</strong>"
   ]
  },
  {
   "cell_type": "markdown",
   "id": "9365a311-e45f-4a45-b961-f524b693763f",
   "metadata": {},
   "source": [
    "## <strong>Introduction</strong>"
   ]
  },
  {
   "cell_type": "markdown",
   "id": "1896050a-4e1f-477d-991c-85266eab78cd",
   "metadata": {},
   "source": [
    "<p>In this project we are working on 'The Bread Basket' data set,<br/>\n",
    "The dataset belongs to \"The Bread Basket\" a bakery located in Edinburgh,<br/>\n",
    "<a href=\"https://www.kaggle.com/mittalvasu95/the-bread-basket\">Data Set Link</a>,<br/>\n",
    "We applied CRISP-DM process to answer on the questions.\n",
    "</p>"
   ]
  },
  {
   "cell_type": "markdown",
   "id": "d6831172-dc95-4cd7-a056-ae119c33e5b3",
   "metadata": {
    "tags": []
   },
   "source": [
    "## <strong>A. Business Understanding</strong>"
   ]
  },
  {
   "cell_type": "markdown",
   "id": "489c99f8-c6e2-4e03-b5f4-38397f13bbc8",
   "metadata": {},
   "source": [
    "The data set contains transactions of the store, so the main goal is to answer on sales related quetion:<br/>\n",
    "<Strong>Q1- How many items are there?<br/>\n",
    "Q2- Top 10 most ordered products?<br/>\n",
    "Q3- Which time period has more transactions?<br/>\n",
    "Q4- Which day type has more transaction?<br/>\n",
    "Q5- What customers preffer to buy on weekends morning?<br/>\n",
    "Q6- Which month has more sales?<br/>    \n",
    "</Strong>\n",
    "<br/><br/>\n",
    "and the final and most important question:<br/>\n",
    "<strong>MQ- Recommend bundles to increase sales?</strong>"
   ]
  },
  {
   "cell_type": "markdown",
   "id": "f5ed9679-94b4-44fa-944e-8e431d97471e",
   "metadata": {},
   "source": [
    "## <strong>B. Data Understanding</strong>"
   ]
  },
  {
   "cell_type": "markdown",
   "id": "b26a279a-98db-4506-a161-5aea6641dd03",
   "metadata": {},
   "source": [
    "### <strong>1. Load & Explore Data</strong>"
   ]
  },
  {
   "cell_type": "code",
   "execution_count": 1,
   "id": "85765dc2-c135-41a1-9a37-cdefb06d3e89",
   "metadata": {},
   "outputs": [],
   "source": [
    "# Import Libraries\n",
    "import numpy as np\n",
    "import pandas as pd"
   ]
  },
  {
   "cell_type": "code",
   "execution_count": 2,
   "id": "938ea0f5-e82f-47f4-a223-4ed816064a1a",
   "metadata": {},
   "outputs": [],
   "source": [
    "# Read data set\n",
    "df = pd.read_csv('./Data/bread basket.csv')"
   ]
  },
  {
   "cell_type": "code",
   "execution_count": 3,
   "id": "9fc01c09-5a33-4144-951f-5e2243aab73f",
   "metadata": {},
   "outputs": [
    {
     "data": {
      "text/html": [
       "<div>\n",
       "<style scoped>\n",
       "    .dataframe tbody tr th:only-of-type {\n",
       "        vertical-align: middle;\n",
       "    }\n",
       "\n",
       "    .dataframe tbody tr th {\n",
       "        vertical-align: top;\n",
       "    }\n",
       "\n",
       "    .dataframe thead th {\n",
       "        text-align: right;\n",
       "    }\n",
       "</style>\n",
       "<table border=\"1\" class=\"dataframe\">\n",
       "  <thead>\n",
       "    <tr style=\"text-align: right;\">\n",
       "      <th></th>\n",
       "      <th>Transaction</th>\n",
       "      <th>Item</th>\n",
       "      <th>date_time</th>\n",
       "      <th>period_day</th>\n",
       "      <th>weekday_weekend</th>\n",
       "    </tr>\n",
       "  </thead>\n",
       "  <tbody>\n",
       "    <tr>\n",
       "      <th>0</th>\n",
       "      <td>1</td>\n",
       "      <td>Bread</td>\n",
       "      <td>30-10-2016 09:58</td>\n",
       "      <td>morning</td>\n",
       "      <td>weekend</td>\n",
       "    </tr>\n",
       "    <tr>\n",
       "      <th>1</th>\n",
       "      <td>2</td>\n",
       "      <td>Scandinavian</td>\n",
       "      <td>30-10-2016 10:05</td>\n",
       "      <td>morning</td>\n",
       "      <td>weekend</td>\n",
       "    </tr>\n",
       "    <tr>\n",
       "      <th>2</th>\n",
       "      <td>2</td>\n",
       "      <td>Scandinavian</td>\n",
       "      <td>30-10-2016 10:05</td>\n",
       "      <td>morning</td>\n",
       "      <td>weekend</td>\n",
       "    </tr>\n",
       "    <tr>\n",
       "      <th>3</th>\n",
       "      <td>3</td>\n",
       "      <td>Hot chocolate</td>\n",
       "      <td>30-10-2016 10:07</td>\n",
       "      <td>morning</td>\n",
       "      <td>weekend</td>\n",
       "    </tr>\n",
       "  </tbody>\n",
       "</table>\n",
       "</div>"
      ],
      "text/plain": [
       "   Transaction           Item         date_time period_day weekday_weekend\n",
       "0            1          Bread  30-10-2016 09:58    morning         weekend\n",
       "1            2   Scandinavian  30-10-2016 10:05    morning         weekend\n",
       "2            2   Scandinavian  30-10-2016 10:05    morning         weekend\n",
       "3            3  Hot chocolate  30-10-2016 10:07    morning         weekend"
      ]
     },
     "execution_count": 3,
     "metadata": {},
     "output_type": "execute_result"
    }
   ],
   "source": [
    "# Display first 4 rows\n",
    "df.head(4)"
   ]
  },
  {
   "cell_type": "code",
   "execution_count": 4,
   "id": "9424122b-a7bb-4f7c-9e50-f91ebe50b0a7",
   "metadata": {},
   "outputs": [
    {
     "data": {
      "text/plain": [
       "Index(['Transaction', 'Item', 'date_time', 'period_day', 'weekday_weekend'], dtype='object')"
      ]
     },
     "execution_count": 4,
     "metadata": {},
     "output_type": "execute_result"
    }
   ],
   "source": [
    "# Check columns\n",
    "df.columns"
   ]
  },
  {
   "cell_type": "code",
   "execution_count": 5,
   "id": "7a949c35-8f15-4849-9ac2-fb86a06d767e",
   "metadata": {},
   "outputs": [
    {
     "data": {
      "text/plain": [
       "(20507, 5)"
      ]
     },
     "execution_count": 5,
     "metadata": {},
     "output_type": "execute_result"
    }
   ],
   "source": [
    "# Check entries\n",
    "df.shape"
   ]
  },
  {
   "cell_type": "code",
   "execution_count": 6,
   "id": "64807a10-cde7-4141-b5ea-82257cb6cd25",
   "metadata": {},
   "outputs": [
    {
     "data": {
      "text/plain": [
       "9465"
      ]
     },
     "execution_count": 6,
     "metadata": {},
     "output_type": "execute_result"
    }
   ],
   "source": [
    "# Number of transaction\n",
    "df['Transaction'].nunique()"
   ]
  },
  {
   "cell_type": "code",
   "execution_count": 7,
   "id": "5aa33b1d-7029-4385-ac4b-ad7da5fddbed",
   "metadata": {},
   "outputs": [
    {
     "data": {
      "text/plain": [
       "array(['Bread', 'Scandinavian', 'Hot chocolate', 'Jam', 'Cookies',\n",
       "       'Muffin', 'Coffee', 'Pastry', 'Medialuna', 'Tea', 'Tartine',\n",
       "       'Basket', 'Mineral water', 'Farm House', 'Fudge', 'Juice',\n",
       "       \"Ella's Kitchen Pouches\", 'Victorian Sponge', 'Frittata',\n",
       "       'Hearty & Seasonal', 'Soup', 'Pick and Mix Bowls', 'Smoothies',\n",
       "       'Cake', 'Mighty Protein', 'Chicken sand', 'Coke',\n",
       "       'My-5 Fruit Shoot', 'Focaccia', 'Sandwich', 'Alfajores', 'Eggs',\n",
       "       'Brownie', 'Dulce de Leche', 'Honey', 'The BART', 'Granola',\n",
       "       'Fairy Doors', 'Empanadas', 'Keeping It Local', 'Art Tray',\n",
       "       'Bowl Nic Pitt', 'Bread Pudding', 'Adjustment', 'Truffles',\n",
       "       'Chimichurri Oil', 'Bacon', 'Spread', 'Kids biscuit', 'Siblings',\n",
       "       'Caramel bites', 'Jammie Dodgers', 'Tiffin', 'Olum & polenta',\n",
       "       'Polenta', 'The Nomad', 'Hack the stack', 'Bakewell',\n",
       "       'Lemon and coconut', 'Toast', 'Scone', 'Crepes', 'Vegan mincepie',\n",
       "       'Bare Popcorn', 'Muesli', 'Crisps', 'Pintxos', 'Gingerbread syrup',\n",
       "       'Panatone', 'Brioche and salami', 'Afternoon with the baker',\n",
       "       'Salad', 'Chicken Stew', 'Spanish Brunch',\n",
       "       'Raspberry shortbread sandwich', 'Extra Salami or Feta',\n",
       "       'Duck egg', 'Baguette', \"Valentine's card\", 'Tshirt',\n",
       "       'Vegan Feast', 'Postcard', 'Nomad bag', 'Chocolates',\n",
       "       'Coffee granules ', 'Drinking chocolate spoons ',\n",
       "       'Christmas common', 'Argentina Night', 'Half slice Monster ',\n",
       "       'Gift voucher', 'Cherry me Dried fruit', 'Mortimer', 'Raw bars',\n",
       "       'Tacos/Fajita'], dtype=object)"
      ]
     },
     "execution_count": 7,
     "metadata": {},
     "output_type": "execute_result"
    }
   ],
   "source": [
    "# Discover item column content\n",
    "df['Item'].unique()"
   ]
  },
  {
   "cell_type": "code",
   "execution_count": 8,
   "id": "41fdcced-1813-44f0-aa87-d4e77509746b",
   "metadata": {},
   "outputs": [
    {
     "data": {
      "text/plain": [
       "array(['30-10-2016 09:58', '30-10-2016 10:05', '30-10-2016 10:07', ...,\n",
       "       '09-04-2017 14:32', '09-04-2017 14:57', '09-04-2017 15:04'],\n",
       "      dtype=object)"
      ]
     },
     "execution_count": 8,
     "metadata": {},
     "output_type": "execute_result"
    }
   ],
   "source": [
    "# Discover date time column content\n",
    "df['date_time'].unique()"
   ]
  },
  {
   "cell_type": "code",
   "execution_count": 9,
   "id": "69a5d9a1-33d6-4e42-a475-e6d21dd8ac12",
   "metadata": {},
   "outputs": [
    {
     "data": {
      "text/plain": [
       "array(['morning', 'afternoon', 'evening', 'night'], dtype=object)"
      ]
     },
     "execution_count": 9,
     "metadata": {},
     "output_type": "execute_result"
    }
   ],
   "source": [
    "# Discover period day content\n",
    "df['period_day'].unique()"
   ]
  },
  {
   "cell_type": "code",
   "execution_count": 10,
   "id": "cad38830-58c5-46f6-bf23-ec58c4b5d14b",
   "metadata": {},
   "outputs": [
    {
     "data": {
      "text/plain": [
       "array(['weekend', 'weekday'], dtype=object)"
      ]
     },
     "execution_count": 10,
     "metadata": {},
     "output_type": "execute_result"
    }
   ],
   "source": [
    "# Dicover weekday weekend column content\n",
    "df['weekday_weekend'].unique()"
   ]
  },
  {
   "cell_type": "markdown",
   "id": "a8b92514-078a-4453-8130-22b5eb864cc6",
   "metadata": {
    "tags": []
   },
   "source": [
    "### <strong>2. Conclution</strong>"
   ]
  },
  {
   "cell_type": "markdown",
   "id": "266eedc6-0740-4196-910f-3fcfa7291ec1",
   "metadata": {},
   "source": [
    "The data has 20,507 entries that contains 5 columns:\n",
    "\n",
    "'Transaction': Transaction ID.\n",
    "\n",
    "'Item': Items Name.\n",
    "\n",
    "'date_time': Transaction Time & Date.\n",
    "\n",
    "'period_day': Which Section of the Day That Transaction were Issued.\n",
    "\n",
    "'weekday_weekend': Day Type (Normal Day or Weekend).\n",
    "\n",
    "There is 9,465 transaction Issued between 2016 - 2017.\n"
   ]
  },
  {
   "cell_type": "markdown",
   "id": "8b350e5a-e987-44f6-8e00-4504761c422c",
   "metadata": {},
   "source": [
    "## <strong>C. Data Preparation + Modling + Evaluation</strong>"
   ]
  },
  {
   "cell_type": "code",
   "execution_count": 11,
   "id": "e189c751-2683-4685-9f04-14c8535a4cd4",
   "metadata": {},
   "outputs": [
    {
     "data": {
      "text/plain": [
       "Transaction        0\n",
       "Item               0\n",
       "date_time          0\n",
       "period_day         0\n",
       "weekday_weekend    0\n",
       "dtype: int64"
      ]
     },
     "execution_count": 11,
     "metadata": {},
     "output_type": "execute_result"
    }
   ],
   "source": [
    "# Check if there is null values\n",
    "df.isnull().sum()"
   ]
  },
  {
   "cell_type": "markdown",
   "id": "ff5623ae-75ff-4e87-8a87-17dc844eb537",
   "metadata": {},
   "source": [
    "**Q1- How many items are there?**"
   ]
  },
  {
   "cell_type": "code",
   "execution_count": 12,
   "id": "9c3be374-536c-48a6-a9d5-4fc0464667cf",
   "metadata": {},
   "outputs": [
    {
     "data": {
      "text/plain": [
       "94"
      ]
     },
     "execution_count": 12,
     "metadata": {},
     "output_type": "execute_result"
    }
   ],
   "source": [
    "# Answering on first qouestion\n",
    "df['Item'].nunique()"
   ]
  },
  {
   "cell_type": "markdown",
   "id": "16e3aa8d-c51c-4edf-b3f9-fa0bf8897c1f",
   "metadata": {},
   "source": [
    "**Q2- Top 10 most ordered products?**"
   ]
  },
  {
   "cell_type": "code",
   "execution_count": 13,
   "id": "45e5dce5-2aae-4287-81c3-410fc80659cc",
   "metadata": {},
   "outputs": [],
   "source": [
    "df2=df.groupby(['Item'])['Transaction'].count().sort_values(ascending=False).reset_index().head(10)"
   ]
  },
  {
   "cell_type": "code",
   "execution_count": 14,
   "id": "16d411da-3ab6-4262-8a91-89ed7f6fe6a5",
   "metadata": {},
   "outputs": [
    {
     "data": {
      "text/html": [
       "<div>\n",
       "<style scoped>\n",
       "    .dataframe tbody tr th:only-of-type {\n",
       "        vertical-align: middle;\n",
       "    }\n",
       "\n",
       "    .dataframe tbody tr th {\n",
       "        vertical-align: top;\n",
       "    }\n",
       "\n",
       "    .dataframe thead th {\n",
       "        text-align: right;\n",
       "    }\n",
       "</style>\n",
       "<table border=\"1\" class=\"dataframe\">\n",
       "  <thead>\n",
       "    <tr style=\"text-align: right;\">\n",
       "      <th></th>\n",
       "      <th>Item</th>\n",
       "      <th>Transaction</th>\n",
       "    </tr>\n",
       "  </thead>\n",
       "  <tbody>\n",
       "    <tr>\n",
       "      <th>0</th>\n",
       "      <td>Coffee</td>\n",
       "      <td>5471</td>\n",
       "    </tr>\n",
       "    <tr>\n",
       "      <th>1</th>\n",
       "      <td>Bread</td>\n",
       "      <td>3325</td>\n",
       "    </tr>\n",
       "    <tr>\n",
       "      <th>2</th>\n",
       "      <td>Tea</td>\n",
       "      <td>1435</td>\n",
       "    </tr>\n",
       "    <tr>\n",
       "      <th>3</th>\n",
       "      <td>Cake</td>\n",
       "      <td>1025</td>\n",
       "    </tr>\n",
       "    <tr>\n",
       "      <th>4</th>\n",
       "      <td>Pastry</td>\n",
       "      <td>856</td>\n",
       "    </tr>\n",
       "    <tr>\n",
       "      <th>5</th>\n",
       "      <td>Sandwich</td>\n",
       "      <td>771</td>\n",
       "    </tr>\n",
       "    <tr>\n",
       "      <th>6</th>\n",
       "      <td>Medialuna</td>\n",
       "      <td>616</td>\n",
       "    </tr>\n",
       "    <tr>\n",
       "      <th>7</th>\n",
       "      <td>Hot chocolate</td>\n",
       "      <td>590</td>\n",
       "    </tr>\n",
       "    <tr>\n",
       "      <th>8</th>\n",
       "      <td>Cookies</td>\n",
       "      <td>540</td>\n",
       "    </tr>\n",
       "    <tr>\n",
       "      <th>9</th>\n",
       "      <td>Brownie</td>\n",
       "      <td>379</td>\n",
       "    </tr>\n",
       "  </tbody>\n",
       "</table>\n",
       "</div>"
      ],
      "text/plain": [
       "            Item  Transaction\n",
       "0         Coffee         5471\n",
       "1          Bread         3325\n",
       "2            Tea         1435\n",
       "3           Cake         1025\n",
       "4         Pastry          856\n",
       "5       Sandwich          771\n",
       "6      Medialuna          616\n",
       "7  Hot chocolate          590\n",
       "8        Cookies          540\n",
       "9        Brownie          379"
      ]
     },
     "execution_count": 14,
     "metadata": {},
     "output_type": "execute_result"
    }
   ],
   "source": [
    "df2"
   ]
  },
  {
   "cell_type": "code",
   "execution_count": 15,
   "id": "b42fc2e8-d410-4c54-ba51-9a5eaefb1aff",
   "metadata": {},
   "outputs": [
    {
     "data": {
      "text/plain": [
       "<AxesSubplot:xlabel='Item'>"
      ]
     },
     "execution_count": 15,
     "metadata": {},
     "output_type": "execute_result"
    },
    {
     "data": {
      "image/png": "[encoded data removed]",
      "text/plain": [
       "<Figure size 1008x576 with 1 Axes>"
      ]
     },
     "metadata": {
      "needs_background": "light"
     },
     "output_type": "display_data"
    }
   ],
   "source": [
    "df2.plot(x='Item',y='Transaction',color='mediumseagreen',kind='bar',figsize=(14,8))"
   ]
  },
  {
   "cell_type": "markdown",
   "id": "f879b80f-cea4-4768-9cdf-d4d93565018c",
   "metadata": {},
   "source": [
    "**Q3- Which time period has more transactions?**"
   ]
  },
  {
   "cell_type": "code",
   "execution_count": 16,
   "id": "a0abe9c0-99bb-4fb8-9d42-04004cfa623f",
   "metadata": {},
   "outputs": [],
   "source": [
    "df3= df.groupby(['period_day'])['Transaction'].count().sort_values(ascending=False).reset_index()"
   ]
  },
  {
   "cell_type": "code",
   "execution_count": 17,
   "id": "90a3906c-baa4-45ab-acbd-e4cbdd297abd",
   "metadata": {},
   "outputs": [
    {
     "data": {
      "text/html": [
       "<div>\n",
       "<style scoped>\n",
       "    .dataframe tbody tr th:only-of-type {\n",
       "        vertical-align: middle;\n",
       "    }\n",
       "\n",
       "    .dataframe tbody tr th {\n",
       "        vertical-align: top;\n",
       "    }\n",
       "\n",
       "    .dataframe thead th {\n",
       "        text-align: right;\n",
       "    }\n",
       "</style>\n",
       "<table border=\"1\" class=\"dataframe\">\n",
       "  <thead>\n",
       "    <tr style=\"text-align: right;\">\n",
       "      <th></th>\n",
       "      <th>period_day</th>\n",
       "      <th>Transaction</th>\n",
       "    </tr>\n",
       "  </thead>\n",
       "  <tbody>\n",
       "    <tr>\n",
       "      <th>0</th>\n",
       "      <td>afternoon</td>\n",
       "      <td>11569</td>\n",
       "    </tr>\n",
       "    <tr>\n",
       "      <th>1</th>\n",
       "      <td>morning</td>\n",
       "      <td>8404</td>\n",
       "    </tr>\n",
       "    <tr>\n",
       "      <th>2</th>\n",
       "      <td>evening</td>\n",
       "      <td>520</td>\n",
       "    </tr>\n",
       "    <tr>\n",
       "      <th>3</th>\n",
       "      <td>night</td>\n",
       "      <td>14</td>\n",
       "    </tr>\n",
       "  </tbody>\n",
       "</table>\n",
       "</div>"
      ],
      "text/plain": [
       "  period_day  Transaction\n",
       "0  afternoon        11569\n",
       "1    morning         8404\n",
       "2    evening          520\n",
       "3      night           14"
      ]
     },
     "execution_count": 17,
     "metadata": {},
     "output_type": "execute_result"
    }
   ],
   "source": [
    "df3"
   ]
  },
  {
   "cell_type": "code",
   "execution_count": 18,
   "id": "46c38a13-3c73-4b22-8213-d908152b86a4",
   "metadata": {},
   "outputs": [
    {
     "data": {
      "text/plain": [
       "<AxesSubplot:xlabel='period_day'>"
      ]
     },
     "execution_count": 18,
     "metadata": {},
     "output_type": "execute_result"
    },
    {
     "data": {
      "image/png": "[encoded data removed]",
      "text/plain": [
       "<Figure size 1008x576 with 1 Axes>"
      ]
     },
     "metadata": {
      "needs_background": "light"
     },
     "output_type": "display_data"
    }
   ],
   "source": [
    "df3.plot(x='period_day',y='Transaction',color='mediumseagreen',kind='bar',figsize=(14,8))"
   ]
  },
  {
   "cell_type": "markdown",
   "id": "8d23ebbc-81b6-46d6-a9fd-eba091110763",
   "metadata": {},
   "source": [
    "**transactions By Year(Extra):**"
   ]
  },
  {
   "cell_type": "code",
   "execution_count": 19,
   "id": "36b329ae-30f5-4508-b60f-bf65f36b6fe1",
   "metadata": {},
   "outputs": [],
   "source": [
    "dfY = df.copy()"
   ]
  },
  {
   "cell_type": "code",
   "execution_count": 20,
   "id": "b22c769c-d733-4110-93a6-5da0eac7676f",
   "metadata": {},
   "outputs": [],
   "source": [
    "dfY['year'] = pd.DatetimeIndex(dfY['date_time']).year"
   ]
  },
  {
   "cell_type": "code",
   "execution_count": 21,
   "id": "1df437cd-8219-43d8-a4c7-607009a5ec97",
   "metadata": {},
   "outputs": [],
   "source": [
    "dfY=dfY.groupby(['year'])['Transaction'].count().reset_index()"
   ]
  },
  {
   "cell_type": "code",
   "execution_count": 22,
   "id": "1b1c9202-5a70-41c5-bc6d-781ec8a238d5",
   "metadata": {},
   "outputs": [
    {
     "data": {
      "text/plain": [
       "<AxesSubplot:xlabel='year'>"
      ]
     },
     "execution_count": 22,
     "metadata": {},
     "output_type": "execute_result"
    },
    {
     "data": {
      "image/png": "[encoded data removed]",
      "text/plain": [
       "<Figure size 1008x576 with 1 Axes>"
      ]
     },
     "metadata": {
      "needs_background": "light"
     },
     "output_type": "display_data"
    }
   ],
   "source": [
    "dfY.plot(x='year',y='Transaction',color='mediumseagreen',kind='bar',figsize=(14,8))"
   ]
  },
  {
   "cell_type": "markdown",
   "id": "d47e4e33-1d6c-4bc6-be73-a506312c3c18",
   "metadata": {},
   "source": [
    "**Q4- Which day type has more transaction?**"
   ]
  },
  {
   "cell_type": "code",
   "execution_count": 23,
   "id": "99acf025-f6c3-48ca-a4ad-94bda9e93091",
   "metadata": {},
   "outputs": [],
   "source": [
    "df4 = df.groupby(['weekday_weekend'])['Transaction'].count().sort_values(ascending=False).reset_index()"
   ]
  },
  {
   "cell_type": "code",
   "execution_count": 24,
   "id": "d2622b6d-6242-4f0d-9d51-2d01da09b7b6",
   "metadata": {},
   "outputs": [
    {
     "data": {
      "text/html": [
       "<div>\n",
       "<style scoped>\n",
       "    .dataframe tbody tr th:only-of-type {\n",
       "        vertical-align: middle;\n",
       "    }\n",
       "\n",
       "    .dataframe tbody tr th {\n",
       "        vertical-align: top;\n",
       "    }\n",
       "\n",
       "    .dataframe thead th {\n",
       "        text-align: right;\n",
       "    }\n",
       "</style>\n",
       "<table border=\"1\" class=\"dataframe\">\n",
       "  <thead>\n",
       "    <tr style=\"text-align: right;\">\n",
       "      <th></th>\n",
       "      <th>weekday_weekend</th>\n",
       "      <th>Transaction</th>\n",
       "    </tr>\n",
       "  </thead>\n",
       "  <tbody>\n",
       "    <tr>\n",
       "      <th>0</th>\n",
       "      <td>weekday</td>\n",
       "      <td>12807</td>\n",
       "    </tr>\n",
       "    <tr>\n",
       "      <th>1</th>\n",
       "      <td>weekend</td>\n",
       "      <td>7700</td>\n",
       "    </tr>\n",
       "  </tbody>\n",
       "</table>\n",
       "</div>"
      ],
      "text/plain": [
       "  weekday_weekend  Transaction\n",
       "0         weekday        12807\n",
       "1         weekend         7700"
      ]
     },
     "execution_count": 24,
     "metadata": {},
     "output_type": "execute_result"
    }
   ],
   "source": [
    "df4"
   ]
  },
  {
   "cell_type": "code",
   "execution_count": 25,
   "id": "b406974d-db35-4b0e-95cc-74a17e79ed36",
   "metadata": {},
   "outputs": [
    {
     "data": {
      "text/plain": [
       "<AxesSubplot:ylabel='Transaction'>"
      ]
     },
     "execution_count": 25,
     "metadata": {},
     "output_type": "execute_result"
    },
    {
     "data": {
      "image/png": "[encoded data removed]",
      "text/plain": [
       "<Figure size 360x360 with 1 Axes>"
      ]
     },
     "metadata": {},
     "output_type": "display_data"
    }
   ],
   "source": [
    "df4.plot.pie(y='Transaction',labels=['weekday','weekend'],colors=['#0075A4','#72ADCF'],startangle=-135, figsize=(5, 5))"
   ]
  },
  {
   "cell_type": "markdown",
   "id": "92527fbe-ade0-4b1f-9616-6ccd6111918f",
   "metadata": {},
   "source": [
    "**Q5- What customers preffer to buy on weekends morning?<br/>**"
   ]
  },
  {
   "cell_type": "code",
   "execution_count": 26,
   "id": "aede1882-65b4-44d3-a233-df5d5c5453bc",
   "metadata": {},
   "outputs": [
    {
     "data": {
      "text/html": [
       "<div>\n",
       "<style scoped>\n",
       "    .dataframe tbody tr th:only-of-type {\n",
       "        vertical-align: middle;\n",
       "    }\n",
       "\n",
       "    .dataframe tbody tr th {\n",
       "        vertical-align: top;\n",
       "    }\n",
       "\n",
       "    .dataframe thead th {\n",
       "        text-align: right;\n",
       "    }\n",
       "</style>\n",
       "<table border=\"1\" class=\"dataframe\">\n",
       "  <thead>\n",
       "    <tr style=\"text-align: right;\">\n",
       "      <th></th>\n",
       "      <th>Transaction</th>\n",
       "      <th>Item</th>\n",
       "      <th>date_time</th>\n",
       "      <th>period_day</th>\n",
       "      <th>weekday_weekend</th>\n",
       "    </tr>\n",
       "  </thead>\n",
       "  <tbody>\n",
       "    <tr>\n",
       "      <th>0</th>\n",
       "      <td>1</td>\n",
       "      <td>Bread</td>\n",
       "      <td>30-10-2016 09:58</td>\n",
       "      <td>morning</td>\n",
       "      <td>weekend</td>\n",
       "    </tr>\n",
       "    <tr>\n",
       "      <th>1</th>\n",
       "      <td>2</td>\n",
       "      <td>Scandinavian</td>\n",
       "      <td>30-10-2016 10:05</td>\n",
       "      <td>morning</td>\n",
       "      <td>weekend</td>\n",
       "    </tr>\n",
       "    <tr>\n",
       "      <th>2</th>\n",
       "      <td>2</td>\n",
       "      <td>Scandinavian</td>\n",
       "      <td>30-10-2016 10:05</td>\n",
       "      <td>morning</td>\n",
       "      <td>weekend</td>\n",
       "    </tr>\n",
       "    <tr>\n",
       "      <th>3</th>\n",
       "      <td>3</td>\n",
       "      <td>Hot chocolate</td>\n",
       "      <td>30-10-2016 10:07</td>\n",
       "      <td>morning</td>\n",
       "      <td>weekend</td>\n",
       "    </tr>\n",
       "    <tr>\n",
       "      <th>4</th>\n",
       "      <td>3</td>\n",
       "      <td>Jam</td>\n",
       "      <td>30-10-2016 10:07</td>\n",
       "      <td>morning</td>\n",
       "      <td>weekend</td>\n",
       "    </tr>\n",
       "    <tr>\n",
       "      <th>...</th>\n",
       "      <td>...</td>\n",
       "      <td>...</td>\n",
       "      <td>...</td>\n",
       "      <td>...</td>\n",
       "      <td>...</td>\n",
       "    </tr>\n",
       "    <tr>\n",
       "      <th>20502</th>\n",
       "      <td>9682</td>\n",
       "      <td>Coffee</td>\n",
       "      <td>09-04-2017 14:32</td>\n",
       "      <td>afternoon</td>\n",
       "      <td>weekend</td>\n",
       "    </tr>\n",
       "    <tr>\n",
       "      <th>20503</th>\n",
       "      <td>9682</td>\n",
       "      <td>Tea</td>\n",
       "      <td>09-04-2017 14:32</td>\n",
       "      <td>afternoon</td>\n",
       "      <td>weekend</td>\n",
       "    </tr>\n",
       "    <tr>\n",
       "      <th>20504</th>\n",
       "      <td>9683</td>\n",
       "      <td>Coffee</td>\n",
       "      <td>09-04-2017 14:57</td>\n",
       "      <td>afternoon</td>\n",
       "      <td>weekend</td>\n",
       "    </tr>\n",
       "    <tr>\n",
       "      <th>20505</th>\n",
       "      <td>9683</td>\n",
       "      <td>Pastry</td>\n",
       "      <td>09-04-2017 14:57</td>\n",
       "      <td>afternoon</td>\n",
       "      <td>weekend</td>\n",
       "    </tr>\n",
       "    <tr>\n",
       "      <th>20506</th>\n",
       "      <td>9684</td>\n",
       "      <td>Smoothies</td>\n",
       "      <td>09-04-2017 15:04</td>\n",
       "      <td>afternoon</td>\n",
       "      <td>weekend</td>\n",
       "    </tr>\n",
       "  </tbody>\n",
       "</table>\n",
       "<p>20507 rows × 5 columns</p>\n",
       "</div>"
      ],
      "text/plain": [
       "       Transaction           Item         date_time period_day weekday_weekend\n",
       "0                1          Bread  30-10-2016 09:58    morning         weekend\n",
       "1                2   Scandinavian  30-10-2016 10:05    morning         weekend\n",
       "2                2   Scandinavian  30-10-2016 10:05    morning         weekend\n",
       "3                3  Hot chocolate  30-10-2016 10:07    morning         weekend\n",
       "4                3            Jam  30-10-2016 10:07    morning         weekend\n",
       "...            ...            ...               ...        ...             ...\n",
       "20502         9682         Coffee  09-04-2017 14:32  afternoon         weekend\n",
       "20503         9682            Tea  09-04-2017 14:32  afternoon         weekend\n",
       "20504         9683         Coffee  09-04-2017 14:57  afternoon         weekend\n",
       "20505         9683         Pastry  09-04-2017 14:57  afternoon         weekend\n",
       "20506         9684      Smoothies  09-04-2017 15:04  afternoon         weekend\n",
       "\n",
       "[20507 rows x 5 columns]"
      ]
     },
     "execution_count": 26,
     "metadata": {},
     "output_type": "execute_result"
    }
   ],
   "source": [
    "df"
   ]
  },
  {
   "cell_type": "code",
   "execution_count": 27,
   "id": "369cee12-74f6-412c-a35d-106ffe2982e7",
   "metadata": {},
   "outputs": [],
   "source": [
    "df5 = df[df['weekday_weekend']=='weekend']\n",
    "df5 = df[df['period_day']=='morning']"
   ]
  },
  {
   "cell_type": "code",
   "execution_count": 28,
   "id": "ec9105a3-de2a-44f0-a429-e2d130231e41",
   "metadata": {},
   "outputs": [],
   "source": [
    "df5=df5.groupby(['Item'])['Transaction'].count().sort_values(ascending=False).reset_index().head(5)"
   ]
  },
  {
   "cell_type": "code",
   "execution_count": 29,
   "id": "012f6723-81b0-4961-987f-dccfc089d32a",
   "metadata": {},
   "outputs": [
    {
     "data": {
      "text/html": [
       "<div>\n",
       "<style scoped>\n",
       "    .dataframe tbody tr th:only-of-type {\n",
       "        vertical-align: middle;\n",
       "    }\n",
       "\n",
       "    .dataframe tbody tr th {\n",
       "        vertical-align: top;\n",
       "    }\n",
       "\n",
       "    .dataframe thead th {\n",
       "        text-align: right;\n",
       "    }\n",
       "</style>\n",
       "<table border=\"1\" class=\"dataframe\">\n",
       "  <thead>\n",
       "    <tr style=\"text-align: right;\">\n",
       "      <th></th>\n",
       "      <th>Item</th>\n",
       "      <th>Transaction</th>\n",
       "    </tr>\n",
       "  </thead>\n",
       "  <tbody>\n",
       "    <tr>\n",
       "      <th>0</th>\n",
       "      <td>Coffee</td>\n",
       "      <td>2561</td>\n",
       "    </tr>\n",
       "    <tr>\n",
       "      <th>1</th>\n",
       "      <td>Bread</td>\n",
       "      <td>1610</td>\n",
       "    </tr>\n",
       "    <tr>\n",
       "      <th>2</th>\n",
       "      <td>Pastry</td>\n",
       "      <td>604</td>\n",
       "    </tr>\n",
       "    <tr>\n",
       "      <th>3</th>\n",
       "      <td>Tea</td>\n",
       "      <td>456</td>\n",
       "    </tr>\n",
       "    <tr>\n",
       "      <th>4</th>\n",
       "      <td>Medialuna</td>\n",
       "      <td>402</td>\n",
       "    </tr>\n",
       "  </tbody>\n",
       "</table>\n",
       "</div>"
      ],
      "text/plain": [
       "        Item  Transaction\n",
       "0     Coffee         2561\n",
       "1      Bread         1610\n",
       "2     Pastry          604\n",
       "3        Tea          456\n",
       "4  Medialuna          402"
      ]
     },
     "execution_count": 29,
     "metadata": {},
     "output_type": "execute_result"
    }
   ],
   "source": [
    "df5"
   ]
  },
  {
   "cell_type": "code",
   "execution_count": 30,
   "id": "03557ce1-c281-432a-873b-2de5a4807d2c",
   "metadata": {},
   "outputs": [
    {
     "data": {
      "text/plain": [
       "<AxesSubplot:xlabel='Item'>"
      ]
     },
     "execution_count": 30,
     "metadata": {},
     "output_type": "execute_result"
    },
    {
     "data": {
      "image/png": "[encoded data removed]",
      "text/plain": [
       "<Figure size 1008x576 with 1 Axes>"
      ]
     },
     "metadata": {
      "needs_background": "light"
     },
     "output_type": "display_data"
    }
   ],
   "source": [
    "df5.plot(x='Item',y='Transaction',color='mediumseagreen',kind='bar',figsize=(14,8))"
   ]
  },
  {
   "cell_type": "markdown",
   "id": "97dfc51b-757b-4720-a496-e54822273394",
   "metadata": {},
   "source": [
    "**Q6- Which month has more transactions?<br/>**"
   ]
  },
  {
   "cell_type": "code",
   "execution_count": 31,
   "id": "91f26158-a186-44b9-a959-7799135c1602",
   "metadata": {},
   "outputs": [],
   "source": [
    "df['month']=pd.DatetimeIndex(df['date_time']).month_name()"
   ]
  },
  {
   "cell_type": "code",
   "execution_count": 32,
   "id": "86d27ec0-e00f-46a2-8f16-33946d6a6d37",
   "metadata": {},
   "outputs": [],
   "source": [
    "df6 = df.groupby(['month'])['Transaction'].count().sort_values(ascending=False).reset_index()"
   ]
  },
  {
   "cell_type": "code",
   "execution_count": 33,
   "id": "5a54c615-4105-41f5-97e0-f501e6c65240",
   "metadata": {},
   "outputs": [],
   "source": [
    "df6['Transaction %']= df6['Transaction']/(df6['Transaction'].sum())\n",
    "df6['Transaction %']= df6['Transaction %']*100"
   ]
  },
  {
   "cell_type": "code",
   "execution_count": 34,
   "id": "c1e05686-f4b6-4452-ba6b-112d38428461",
   "metadata": {},
   "outputs": [
    {
     "data": {
      "text/html": [
       "<div>\n",
       "<style scoped>\n",
       "    .dataframe tbody tr th:only-of-type {\n",
       "        vertical-align: middle;\n",
       "    }\n",
       "\n",
       "    .dataframe tbody tr th {\n",
       "        vertical-align: top;\n",
       "    }\n",
       "\n",
       "    .dataframe thead th {\n",
       "        text-align: right;\n",
       "    }\n",
       "</style>\n",
       "<table border=\"1\" class=\"dataframe\">\n",
       "  <thead>\n",
       "    <tr style=\"text-align: right;\">\n",
       "      <th></th>\n",
       "      <th>month</th>\n",
       "      <th>Transaction</th>\n",
       "      <th>Transaction %</th>\n",
       "    </tr>\n",
       "  </thead>\n",
       "  <tbody>\n",
       "    <tr>\n",
       "      <th>0</th>\n",
       "      <td>March</td>\n",
       "      <td>3220</td>\n",
       "      <td>15.701955</td>\n",
       "    </tr>\n",
       "    <tr>\n",
       "      <th>1</th>\n",
       "      <td>November</td>\n",
       "      <td>3076</td>\n",
       "      <td>14.999756</td>\n",
       "    </tr>\n",
       "    <tr>\n",
       "      <th>2</th>\n",
       "      <td>January</td>\n",
       "      <td>3027</td>\n",
       "      <td>14.760813</td>\n",
       "    </tr>\n",
       "    <tr>\n",
       "      <th>3</th>\n",
       "      <td>February</td>\n",
       "      <td>2748</td>\n",
       "      <td>13.400302</td>\n",
       "    </tr>\n",
       "    <tr>\n",
       "      <th>4</th>\n",
       "      <td>December</td>\n",
       "      <td>2647</td>\n",
       "      <td>12.907788</td>\n",
       "    </tr>\n",
       "    <tr>\n",
       "      <th>5</th>\n",
       "      <td>April</td>\n",
       "      <td>1048</td>\n",
       "      <td>5.110450</td>\n",
       "    </tr>\n",
       "    <tr>\n",
       "      <th>6</th>\n",
       "      <td>October</td>\n",
       "      <td>1041</td>\n",
       "      <td>5.076315</td>\n",
       "    </tr>\n",
       "    <tr>\n",
       "      <th>7</th>\n",
       "      <td>May</td>\n",
       "      <td>924</td>\n",
       "      <td>4.505779</td>\n",
       "    </tr>\n",
       "    <tr>\n",
       "      <th>8</th>\n",
       "      <td>July</td>\n",
       "      <td>741</td>\n",
       "      <td>3.613400</td>\n",
       "    </tr>\n",
       "    <tr>\n",
       "      <th>9</th>\n",
       "      <td>June</td>\n",
       "      <td>739</td>\n",
       "      <td>3.603648</td>\n",
       "    </tr>\n",
       "    <tr>\n",
       "      <th>10</th>\n",
       "      <td>August</td>\n",
       "      <td>700</td>\n",
       "      <td>3.413469</td>\n",
       "    </tr>\n",
       "    <tr>\n",
       "      <th>11</th>\n",
       "      <td>September</td>\n",
       "      <td>596</td>\n",
       "      <td>2.906325</td>\n",
       "    </tr>\n",
       "  </tbody>\n",
       "</table>\n",
       "</div>"
      ],
      "text/plain": [
       "        month  Transaction  Transaction %\n",
       "0       March         3220      15.701955\n",
       "1    November         3076      14.999756\n",
       "2     January         3027      14.760813\n",
       "3    February         2748      13.400302\n",
       "4    December         2647      12.907788\n",
       "5       April         1048       5.110450\n",
       "6     October         1041       5.076315\n",
       "7         May          924       4.505779\n",
       "8        July          741       3.613400\n",
       "9        June          739       3.603648\n",
       "10     August          700       3.413469\n",
       "11  September          596       2.906325"
      ]
     },
     "execution_count": 34,
     "metadata": {},
     "output_type": "execute_result"
    }
   ],
   "source": [
    "df6"
   ]
  },
  {
   "cell_type": "code",
   "execution_count": 35,
   "id": "6bf243f5-642e-4d1a-8a52-1e4a33488d38",
   "metadata": {},
   "outputs": [
    {
     "data": {
      "text/plain": [
       "<AxesSubplot:xlabel='month'>"
      ]
     },
     "execution_count": 35,
     "metadata": {},
     "output_type": "execute_result"
    },
    {
     "data": {
      "image/png": "[encoded data removed]",
      "text/plain": [
       "<Figure size 1008x576 with 1 Axes>"
      ]
     },
     "metadata": {
      "needs_background": "light"
     },
     "output_type": "display_data"
    }
   ],
   "source": [
    "df6.plot(x='month',y='Transaction',color='mediumseagreen',kind='bar',figsize=(14,8))"
   ]
  },
  {
   "cell_type": "markdown",
   "id": "494f12dc-1e40-4d93-875d-597f98ec3ca7",
   "metadata": {},
   "source": [
    "<strong>MQ- Recommend Bundles to Increase Sales?</strong>"
   ]
  },
  {
   "cell_type": "markdown",
   "id": "f4e1fc33-3751-4d4b-a6ec-ed7fa8ac69b2",
   "metadata": {},
   "source": [
    "Product bundles means buying two or more product as one product,\n",
    "\n",
    "To decide which products should be included in the bundles, we have to understand customers buying patterns,\n",
    "\n",
    "One of the most popular ML Algorithm used to identfy customer buying pattrerns is Apriori Algorithm,\n",
    "\n",
    "Apriori Algorithm contains 3 main measures:\n",
    "\n",
    "**1- Support:** </br>\n",
    "    This measure shows how popular product is, and measured by calculating the ratio between product appaearing number and number of all transactions.\n",
    "    Example: Product(A) Appeared 5 times on all transaction and the number of transaction is 10 calculate Product(A) Support,</br> </br> $$Support(A) =\\frac{5}{10}=50\\%$$</br> </br>\n",
    "Thats mean half of the customers actually buoght Product(A).    \n",
    "</br>\n",
    "    \n",
    "**2- Confidence:** </br>\n",
    "    This measure shows how likely Product B is purchased when Product A is purchased, and measured by calculating the ratio between Product A,B appearing together number and number of all transaction that has Product A On it.\n",
    "    Example: Product(A) and Product(B) Appeared together on 2 transaction, and the number of product A appearing in all transaction is 6, how much likley who bught product A is going to buy product B?\n",
    "Confidence,</br> </br> $$Confidence(A → B) =\\frac{2}{6}=33.3\\%$$</br> </br>\n",
    "Thats mean customer who bught Product(A) most likley with percentage equal to 33.3% is going to buy Product(B).\n",
    "</br>\n",
    "\n",
    "\n",
    "**3- Lift:** </br>\n",
    "    This meassure show how likely Product(B) is purchased when Product(A) is purchased, while controlling for how popular item Y is.\n",
    "</br> </br> $$Lift(A → B) =\\frac{Support(A→B)}{Support(A)‎‎ ✖ ‎ ‎ Support(B)}$$</br> </br>\n"
   ]
  },
  {
   "cell_type": "code",
   "execution_count": 36,
   "id": "bb32f951-a0cd-4241-821a-4178576b3386",
   "metadata": {},
   "outputs": [],
   "source": [
    "#Import Apriori\n",
    "from efficient_apriori import apriori"
   ]
  },
  {
   "cell_type": "code",
   "execution_count": 37,
   "id": "1d6ab480-c2fa-4e64-90c7-627c4679f2d8",
   "metadata": {},
   "outputs": [],
   "source": [
    "#Import TransactionEncoder to Fit Transactions\n",
    "from mlxtend.preprocessing import TransactionEncoder"
   ]
  },
  {
   "cell_type": "code",
   "execution_count": 38,
   "id": "bd40b7a7-3b2e-4037-adc1-3dd8f4cf353e",
   "metadata": {},
   "outputs": [
    {
     "data": {
      "text/plain": [
       "[['Bread'], ['Scandinavian'], ['Cookies', 'Jam', 'Hot chocolate'], ['Muffin']]"
      ]
     },
     "execution_count": 38,
     "metadata": {},
     "output_type": "execute_result"
    }
   ],
   "source": [
    "transactions=[]\n",
    "for item in df['Transaction'].unique():\n",
    "    lst=list(set(df[df['Transaction']==item]['Item']))\n",
    "    transactions.append(lst)\n",
    "\n",
    "transactions[0:4]"
   ]
  },
  {
   "cell_type": "code",
   "execution_count": 39,
   "id": "498c4eeb-be1c-4c52-9aaa-721554e6fe90",
   "metadata": {},
   "outputs": [
    {
     "data": {
      "text/html": [
       "<div>\n",
       "<style scoped>\n",
       "    .dataframe tbody tr th:only-of-type {\n",
       "        vertical-align: middle;\n",
       "    }\n",
       "\n",
       "    .dataframe tbody tr th {\n",
       "        vertical-align: top;\n",
       "    }\n",
       "\n",
       "    .dataframe thead th {\n",
       "        text-align: right;\n",
       "    }\n",
       "</style>\n",
       "<table border=\"1\" class=\"dataframe\">\n",
       "  <thead>\n",
       "    <tr style=\"text-align: right;\">\n",
       "      <th></th>\n",
       "      <th>Adjustment</th>\n",
       "      <th>Afternoon with the baker</th>\n",
       "      <th>Alfajores</th>\n",
       "      <th>Argentina Night</th>\n",
       "      <th>Art Tray</th>\n",
       "      <th>Bacon</th>\n",
       "      <th>Baguette</th>\n",
       "      <th>Bakewell</th>\n",
       "      <th>Bare Popcorn</th>\n",
       "      <th>Basket</th>\n",
       "      <th>...</th>\n",
       "      <th>The BART</th>\n",
       "      <th>The Nomad</th>\n",
       "      <th>Tiffin</th>\n",
       "      <th>Toast</th>\n",
       "      <th>Truffles</th>\n",
       "      <th>Tshirt</th>\n",
       "      <th>Valentine's card</th>\n",
       "      <th>Vegan Feast</th>\n",
       "      <th>Vegan mincepie</th>\n",
       "      <th>Victorian Sponge</th>\n",
       "    </tr>\n",
       "  </thead>\n",
       "  <tbody>\n",
       "    <tr>\n",
       "      <th>0</th>\n",
       "      <td>False</td>\n",
       "      <td>False</td>\n",
       "      <td>False</td>\n",
       "      <td>False</td>\n",
       "      <td>False</td>\n",
       "      <td>False</td>\n",
       "      <td>False</td>\n",
       "      <td>False</td>\n",
       "      <td>False</td>\n",
       "      <td>False</td>\n",
       "      <td>...</td>\n",
       "      <td>False</td>\n",
       "      <td>False</td>\n",
       "      <td>False</td>\n",
       "      <td>False</td>\n",
       "      <td>False</td>\n",
       "      <td>False</td>\n",
       "      <td>False</td>\n",
       "      <td>False</td>\n",
       "      <td>False</td>\n",
       "      <td>False</td>\n",
       "    </tr>\n",
       "    <tr>\n",
       "      <th>1</th>\n",
       "      <td>False</td>\n",
       "      <td>False</td>\n",
       "      <td>False</td>\n",
       "      <td>False</td>\n",
       "      <td>False</td>\n",
       "      <td>False</td>\n",
       "      <td>False</td>\n",
       "      <td>False</td>\n",
       "      <td>False</td>\n",
       "      <td>False</td>\n",
       "      <td>...</td>\n",
       "      <td>False</td>\n",
       "      <td>False</td>\n",
       "      <td>False</td>\n",
       "      <td>False</td>\n",
       "      <td>False</td>\n",
       "      <td>False</td>\n",
       "      <td>False</td>\n",
       "      <td>False</td>\n",
       "      <td>False</td>\n",
       "      <td>False</td>\n",
       "    </tr>\n",
       "    <tr>\n",
       "      <th>2</th>\n",
       "      <td>False</td>\n",
       "      <td>False</td>\n",
       "      <td>False</td>\n",
       "      <td>False</td>\n",
       "      <td>False</td>\n",
       "      <td>False</td>\n",
       "      <td>False</td>\n",
       "      <td>False</td>\n",
       "      <td>False</td>\n",
       "      <td>False</td>\n",
       "      <td>...</td>\n",
       "      <td>False</td>\n",
       "      <td>False</td>\n",
       "      <td>False</td>\n",
       "      <td>False</td>\n",
       "      <td>False</td>\n",
       "      <td>False</td>\n",
       "      <td>False</td>\n",
       "      <td>False</td>\n",
       "      <td>False</td>\n",
       "      <td>False</td>\n",
       "    </tr>\n",
       "    <tr>\n",
       "      <th>3</th>\n",
       "      <td>False</td>\n",
       "      <td>False</td>\n",
       "      <td>False</td>\n",
       "      <td>False</td>\n",
       "      <td>False</td>\n",
       "      <td>False</td>\n",
       "      <td>False</td>\n",
       "      <td>False</td>\n",
       "      <td>False</td>\n",
       "      <td>False</td>\n",
       "      <td>...</td>\n",
       "      <td>False</td>\n",
       "      <td>False</td>\n",
       "      <td>False</td>\n",
       "      <td>False</td>\n",
       "      <td>False</td>\n",
       "      <td>False</td>\n",
       "      <td>False</td>\n",
       "      <td>False</td>\n",
       "      <td>False</td>\n",
       "      <td>False</td>\n",
       "    </tr>\n",
       "    <tr>\n",
       "      <th>4</th>\n",
       "      <td>False</td>\n",
       "      <td>False</td>\n",
       "      <td>False</td>\n",
       "      <td>False</td>\n",
       "      <td>False</td>\n",
       "      <td>False</td>\n",
       "      <td>False</td>\n",
       "      <td>False</td>\n",
       "      <td>False</td>\n",
       "      <td>False</td>\n",
       "      <td>...</td>\n",
       "      <td>False</td>\n",
       "      <td>False</td>\n",
       "      <td>False</td>\n",
       "      <td>False</td>\n",
       "      <td>False</td>\n",
       "      <td>False</td>\n",
       "      <td>False</td>\n",
       "      <td>False</td>\n",
       "      <td>False</td>\n",
       "      <td>False</td>\n",
       "    </tr>\n",
       "  </tbody>\n",
       "</table>\n",
       "<p>5 rows × 94 columns</p>\n",
       "</div>"
      ],
      "text/plain": [
       "   Adjustment  Afternoon with the baker  Alfajores  Argentina Night  Art Tray  \\\n",
       "0       False                     False      False            False     False   \n",
       "1       False                     False      False            False     False   \n",
       "2       False                     False      False            False     False   \n",
       "3       False                     False      False            False     False   \n",
       "4       False                     False      False            False     False   \n",
       "\n",
       "   Bacon  Baguette  Bakewell  Bare Popcorn  Basket  ...  The BART  The Nomad  \\\n",
       "0  False     False     False         False   False  ...     False      False   \n",
       "1  False     False     False         False   False  ...     False      False   \n",
       "2  False     False     False         False   False  ...     False      False   \n",
       "3  False     False     False         False   False  ...     False      False   \n",
       "4  False     False     False         False   False  ...     False      False   \n",
       "\n",
       "   Tiffin  Toast  Truffles  Tshirt  Valentine's card  Vegan Feast  \\\n",
       "0   False  False     False   False             False        False   \n",
       "1   False  False     False   False             False        False   \n",
       "2   False  False     False   False             False        False   \n",
       "3   False  False     False   False             False        False   \n",
       "4   False  False     False   False             False        False   \n",
       "\n",
       "   Vegan mincepie  Victorian Sponge  \n",
       "0           False             False  \n",
       "1           False             False  \n",
       "2           False             False  \n",
       "3           False             False  \n",
       "4           False             False  \n",
       "\n",
       "[5 rows x 94 columns]"
      ]
     },
     "execution_count": 39,
     "metadata": {},
     "output_type": "execute_result"
    }
   ],
   "source": [
    "te = TransactionEncoder()\n",
    "encodedData = te.fit(transactions).transform(transactions)\n",
    "data = pd.DataFrame(encodedData, columns=te.columns_)\n",
    "data.head()"
   ]
  },
  {
   "cell_type": "code",
   "execution_count": 40,
   "id": "5f3991df-3db0-4722-ae28-dd6d74da70e8",
   "metadata": {},
   "outputs": [],
   "source": [
    "itemsets, rules = apriori(transactions,min_support=0.02, min_confidence=0.2)"
   ]
  },
  {
   "cell_type": "code",
   "execution_count": 41,
   "id": "c3a1f62b-a8a5-4b1c-9697-d82ec0ed70ab",
   "metadata": {},
   "outputs": [
    {
     "name": "stdout",
     "output_type": "stream",
     "text": [
      "{1: {('Bread',): 3097, ('Scandinavian',): 275, ('Cookies',): 515, ('Hot chocolate',): 552, ('Muffin',): 364, ('Pastry',): 815, ('Coffee',): 4528, ('Medialuna',): 585, ('Tea',): 1350, ('Farm House',): 371, ('Juice',): 365, ('Soup',): 326, ('Cake',): 983, ('Sandwich',): 680, ('Alfajores',): 344, ('Brownie',): 379, ('Truffles',): 192, ('Toast',): 318, ('Scone',): 327}, 2: {('Bread', 'Cake'): 221, ('Bread', 'Coffee'): 852, ('Bread', 'Pastry'): 276, ('Bread', 'Tea'): 266, ('Cake', 'Coffee'): 518, ('Cake', 'Tea'): 225, ('Coffee', 'Cookies'): 267, ('Coffee', 'Hot chocolate'): 280, ('Coffee', 'Juice'): 195, ('Coffee', 'Medialuna'): 333, ('Coffee', 'Pastry'): 450, ('Coffee', 'Sandwich'): 362, ('Coffee', 'Tea'): 472, ('Coffee', 'Toast'): 224}}\n"
     ]
    }
   ],
   "source": [
    "print(itemsets)"
   ]
  },
  {
   "cell_type": "code",
   "execution_count": 42,
   "id": "3ef7b459-8d5c-4616-8df5-4d27f6c53fd7",
   "metadata": {},
   "outputs": [],
   "source": [
    "#rules_rhs = filter(lambda rule: len(rule.lhs) == 0.02 and len(rule.rhs) ==0.01,rules)\n",
    "\n",
    "#for rules in sorted(rules_rhs, key=lambda rule: rule.lift):\n",
    "#  print(rules)"
   ]
  },
  {
   "cell_type": "code",
   "execution_count": 43,
   "id": "dfc6ef67-ba87-469c-a85b-48a18aafd447",
   "metadata": {},
   "outputs": [
    {
     "name": "stdout",
     "output_type": "stream",
     "text": [
      "{Bread} -> {Coffee} (conf: 0.275, supp: 0.090, lift: 0.575, conv: 0.720)\n",
      "{Cake} -> {Bread} (conf: 0.225, supp: 0.023, lift: 0.687, conv: 0.868)\n",
      "{Tea} -> {Coffee} (conf: 0.350, supp: 0.050, lift: 0.731, conv: 0.802)\n",
      "{Pastry} -> {Bread} (conf: 0.339, supp: 0.029, lift: 1.035, conv: 1.017)\n",
      "{Hot chocolate} -> {Coffee} (conf: 0.507, supp: 0.030, lift: 1.060, conv: 1.059)\n",
      "{Cookies} -> {Coffee} (conf: 0.518, supp: 0.028, lift: 1.084, conv: 1.083)\n",
      "{Cake} -> {Coffee} (conf: 0.527, supp: 0.055, lift: 1.102, conv: 1.103)\n",
      "{Sandwich} -> {Coffee} (conf: 0.532, supp: 0.038, lift: 1.113, conv: 1.115)\n",
      "{Juice} -> {Coffee} (conf: 0.534, supp: 0.021, lift: 1.117, conv: 1.120)\n",
      "{Pastry} -> {Coffee} (conf: 0.552, supp: 0.048, lift: 1.154, conv: 1.165)\n",
      "{Medialuna} -> {Coffee} (conf: 0.569, supp: 0.035, lift: 1.190, conv: 1.211)\n",
      "{Toast} -> {Coffee} (conf: 0.704, supp: 0.024, lift: 1.472, conv: 1.765)\n",
      "{Cake} -> {Tea} (conf: 0.229, supp: 0.024, lift: 1.605, conv: 1.112)\n"
     ]
    }
   ],
   "source": [
    "rules_rhs = rules\n",
    "\n",
    "for rules in sorted(rules_rhs, key=lambda rule: rule.lift):\n",
    "  print(rules)"
   ]
  },
  {
   "cell_type": "markdown",
   "id": "2e93b984-9491-45ff-b9e4-60bc59110bef",
   "metadata": {},
   "source": []
  },
  {
   "cell_type": "markdown",
   "id": "4fe86256-9262-45ce-a418-a31062579a18",
   "metadata": {},
   "source": [
    "**Model Evaluation**</br>\n",
    "Apirori evaluation done by measuring the lift,\n",
    "Since lift value greater than 1 means that item B is likely to be bought if item A is bought, while a value less than 1 means that item B is unlikely to be bought if item A is bought."
   ]
  },
  {
   "cell_type": "markdown",
   "id": "a1b0b44c-12a5-4d8a-8215-a77b20820c62",
   "metadata": {
    "tags": []
   },
   "source": [
    "#### <strong>3. Conclustion</strong>"
   ]
  },
  {
   "cell_type": "markdown",
   "id": "3f53ce75-07a2-42f0-b039-dbd6fb880d5d",
   "metadata": {},
   "source": [
    "**Q1- How many items are there?<br/>**\n",
    "    A1- There is 94 unique products.\n",
    "    <br/><br/>\n",
    "**Q2- Top 10 most ordered products?<br/>**\n",
    "    A2- the top 10 most ordered products are :(Coffee, Bread, Tea, Cake, Pastry, Sandwich, Medialuna, Hot Chocolate, Cookies, Brownie).\n",
    "    <br/><br/>\n",
    "**Q3- Which time period has more transactions?<br/>**\n",
    "    A3- Most of customers came at afternoon.\n",
    "    <br/><br/>\n",
    "**Q4- Which day type has more transaction?<br/>**\n",
    "    A4- Week days.\n",
    "    <br/><br/>\n",
    "**Q5- What customers preffer to buy on weekends morning?<br/>**\n",
    "    A5- Customers preffer to buy these items on weekends morning :(Coffee, Bread, Pastry, Tea, Medialuna).\n",
    "    <br/><br/>\n",
    "**Q6- Which month has more trafic?<br/>**\n",
    "    A6- On March. \n",
    "    <br/><br/>\n",
    "    \n",
    "\n",
    "\n",
    "**MQ- Recommond bundles to increase sales?<br/>**\n",
    "\n",
    " AQ- {Pastry, Bread}, {Cookies, Coffee}, {Cake, Coffee}, {Sandwich, Coffee}, {Toast, Coffee}\n",
    "{Cake, Tea}"
   ]
  },
  {
   "cell_type": "code",
   "execution_count": null,
   "id": "344291c0-6371-446a-84c5-5d81e1832cd7",
   "metadata": {},
   "outputs": [],
   "source": []
  }
 ],
 "metadata": {
  "kernelspec": {
   "display_name": "Python 3",
   "language": "python",
   "name": "python3"
  },
  "language_info": {
   "codemirror_mode": {
    "name": "ipython",
    "version": 3
   },
   "file_extension": ".py",
   "mimetype": "text/x-python",
   "name": "python",
   "nbconvert_exporter": "python",
   "pygments_lexer": "ipython3",
   "version": "3.8.8"
  }
 },
 "nbformat": 4,
 "nbformat_minor": 5
}
